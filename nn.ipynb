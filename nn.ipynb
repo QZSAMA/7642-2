{
 "cells": [
  {
   "cell_type": "code",
   "execution_count": 2,
   "id": "a22af8c6",
   "metadata": {},
   "outputs": [],
   "source": [
    "import mlrose_hiive\n",
    "from sklearn.model_selection import train_test_split\n",
    "import matplotlib.pyplot as plt\n",
    "import numpy as np\n",
    "from datetime import datetime\n",
    "from sklearn.neural_network import MLPClassifier"
   ]
  },
  {
   "cell_type": "code",
   "execution_count": 3,
   "id": "61ff3cf9",
   "metadata": {},
   "outputs": [],
   "source": [
    "gtid=903789757"
   ]
  },
  {
   "cell_type": "code",
   "execution_count": 4,
   "id": "8e517f2b",
   "metadata": {},
   "outputs": [],
   "source": [
    "from sklearn.datasets import load_digits\n",
    "digits = load_digits()\n",
    "X = digits.data\n",
    "y = digits.target\n",
    "X_train, X_test, y_train, y_test = train_test_split(X, y, test_size=0.3,random_state=gtid)"
   ]
  },
  {
   "cell_type": "code",
   "execution_count": 5,
   "id": "9790689c",
   "metadata": {},
   "outputs": [],
   "source": [
    "# y_train"
   ]
  },
  {
   "cell_type": "code",
   "execution_count": 7,
   "id": "0ffc1ad5",
   "metadata": {},
   "outputs": [],
   "source": [
    "def neural_network(X_train, X_test, y_train, y_test,graph=False,max_iter=300,size=70):\n",
    "    mlp_clf = MLPClassifier(hidden_layer_sizes=(size, size), max_iter=max_iter)\n",
    "    begin_time=datetime.now()\n",
    "    mlp_clf.fit(X_train, y_train)\n",
    "    end_time=datetime.now()\n",
    "    # y_pred = mlp_clf.predict(X_test)\n",
    "    train_score = mlp_clf.score(X_train, y_train)\n",
    "    test_score = mlp_clf.score(X_test, y_test)\n",
    "    return train_score,test_score,mlp_clf,end_time-begin_time"
   ]
  },
  {
   "cell_type": "code",
   "execution_count": 8,
   "id": "e7fcc6dc",
   "metadata": {},
   "outputs": [
    {
     "name": "stdout",
     "output_type": "stream",
     "text": [
      "0:13:00.208376\n"
     ]
    }
   ],
   "source": [
    "ga_nn = mlrose_hiive.NeuralNetwork(\n",
    "    hidden_nodes=[70,70],\n",
    "    activation='relu',\n",
    "    algorithm='genetic_alg',\n",
    "    max_iters=500,\n",
    "    is_classifier =False,\n",
    "    learning_rate=0.01,\n",
    "    pop_size=300,\n",
    "    mutation_prob=0.005,\n",
    "    max_attempts=15,\n",
    "    random_state=gtid,\n",
    "    curve=True,\n",
    "#     early_stopping =True\n",
    ")\n",
    "begin_time=datetime.now()\n",
    "ga_nn.fit(X_train, y_train)\n",
    "end_time=datetime.now()\n",
    "print(end_time-begin_time)"
   ]
  },
  {
   "cell_type": "code",
   "execution_count": null,
   "id": "79dac0b3",
   "metadata": {},
   "outputs": [],
   "source": [
    "rhc_nn = mlrose_hiive.NeuralNetwork(\n",
    "    hidden_nodes=[70,70],\n",
    "    activation='relu',\n",
    "    algorithm='random_hill_climb',\n",
    "    max_iters=250000,\n",
    "    is_classifier =False,\n",
    "    learning_rate=0.01,\n",
    "    max_attempts=150,\n",
    "    random_state=gtid,\n",
    "    curve=True,\n",
    "    restarts=10,\n",
    "#     early_stopping =True\n",
    ")\n",
    "begin_time=datetime.now()\n",
    "rhc_nn.fit(X_train, y_train)\n",
    "end_time=datetime.now()\n",
    "print(end_time-begin_time)"
   ]
  },
  {
   "cell_type": "code",
   "execution_count": null,
   "id": "bf887ee3",
   "metadata": {},
   "outputs": [],
   "source": [
    "# begin_time=datetime.now()\n",
    "# end_time=datetime.now()\n",
    "# print(end_time-begin_time)"
   ]
  },
  {
   "cell_type": "code",
   "execution_count": null,
   "id": "7d68a08d",
   "metadata": {},
   "outputs": [],
   "source": [
    "sa_nn = mlrose_hiive.NeuralNetwork(\n",
    "    hidden_nodes=[70,70],\n",
    "    activation='relu',\n",
    "    algorithm='simulated_annealing',\n",
    "    max_iters=250000,\n",
    "    is_classifier =False,\n",
    "    learning_rate=0.01,\n",
    "    max_attempts=150,\n",
    "    random_state=gtid,\n",
    "    curve=True,\n",
    "#     early_stopping =True\n",
    ")\n",
    "begin_time=datetime.now()\n",
    "sa_nn.fit(X_train, y_train)\n",
    "end_time=datetime.now()\n",
    "print(end_time-begin_time)"
   ]
  },
  {
   "cell_type": "code",
   "execution_count": null,
   "id": "1f2e0c4d",
   "metadata": {},
   "outputs": [],
   "source": [
    "  "
   ]
  },
  {
   "cell_type": "code",
   "execution_count": null,
   "id": "c39e0a7d",
   "metadata": {},
   "outputs": [],
   "source": []
  },
  {
   "cell_type": "code",
   "execution_count": null,
   "id": "f6ec73ce",
   "metadata": {},
   "outputs": [],
   "source": [
    "# plt.figure(1)"
   ]
  },
  {
   "cell_type": "code",
   "execution_count": null,
   "id": "f755d993",
   "metadata": {},
   "outputs": [],
   "source": [
    "# len(rhc_nn.fitness_curve[:,0])"
   ]
  },
  {
   "cell_type": "code",
   "execution_count": null,
   "id": "19415f8e",
   "metadata": {},
   "outputs": [],
   "source": [
    "# len(sa_nn.fitness_curve)"
   ]
  },
  {
   "cell_type": "code",
   "execution_count": null,
   "id": "b7798ea4",
   "metadata": {},
   "outputs": [],
   "source": [
    "train_score_nn,test_score_nn,mlp_clf,train_time = neural_network(X_train, X_test, y_train, y_test,graph=False)"
   ]
  },
  {
   "cell_type": "code",
   "execution_count": null,
   "id": "de112833",
   "metadata": {},
   "outputs": [],
   "source": [
    "\n",
    "iters=np.arange(1, len(rhc_nn.fitness_curve[:,0])+1,1)\n",
    "plt.xlabel(\"Iterations\")\n",
    "plt.ylabel(\"Loss value\")\n",
    "plt.title(\"Loss value vs Iterations for Neural Network with Random Hill Climbing\")\n",
    "plt.plot(iters, rhc_nn.fitness_curve[:,0], marker=\"o\",markersize=1, label=\"Random Hill Climbing\")\n",
    "plt.show"
   ]
  },
  {
   "cell_type": "code",
   "execution_count": null,
   "id": "47d9ea94",
   "metadata": {},
   "outputs": [],
   "source": [
    "\n",
    "iters=np.arange(1, len(sa_nn.fitness_curve[:,0])+1,1)\n",
    "plt.xlabel(\"Iterations\")\n",
    "plt.ylabel(\"Loss value\")\n",
    "plt.title(\"Loss value vs Iterations for Neural Network with Simulated Annealing\")\n",
    "plt.plot(iters, sa_nn.fitness_curve[:,0], marker=\"o\",markersize=1, label=\"Simulated Annealing\")\n",
    "plt.show"
   ]
  },
  {
   "cell_type": "code",
   "execution_count": null,
   "id": "09ec8e4f",
   "metadata": {},
   "outputs": [],
   "source": [
    "\n",
    "iters=np.arange(1, len(ga_nn.fitness_curve[:,0])+1,1)\n",
    "plt.xlabel(\"Iterations\")\n",
    "plt.ylabel(\"Loss value\")\n",
    "plt.title(\"Loss value vs Iterations for Neural Network with Genetic Algorithm\")\n",
    "plt.plot(iters, ga_nn.fitness_curve[:,0], marker=\"o\",markersize=1, label=\"Genetic Algorithm\")\n",
    "plt.show"
   ]
  },
  {
   "cell_type": "code",
   "execution_count": null,
   "id": "ce08a40b",
   "metadata": {},
   "outputs": [],
   "source": [
    "\n",
    "iters=np.arange(1, len(mlp_clf.loss_curve_)+1,1)\n",
    "plt.xlabel(\"Iterations\")\n",
    "plt.ylabel(\"Loss value\")\n",
    "plt.title(\"Loss value vs Iterations for Neural Network with Genetic Algorithm\")\n",
    "plt.plot(iters, mlp_clf.loss_curve_, marker=\"o\",markersize=1, label=\"Genetic Algorithm\")\n",
    "plt.show\n"
   ]
  },
  {
   "cell_type": "code",
   "execution_count": null,
   "id": "474df88e",
   "metadata": {},
   "outputs": [],
   "source": [
    "# rhc_nn.fitness_curve[:,0]"
   ]
  },
  {
   "cell_type": "code",
   "execution_count": null,
   "id": "95c279f9",
   "metadata": {},
   "outputs": [],
   "source": [
    "# sa_nn.fitness_curve"
   ]
  },
  {
   "cell_type": "code",
   "execution_count": null,
   "id": "c59b2515",
   "metadata": {},
   "outputs": [],
   "source": [
    "# ga_nn.fitness_curve"
   ]
  },
  {
   "cell_type": "code",
   "execution_count": null,
   "id": "8769805b",
   "metadata": {},
   "outputs": [],
   "source": [
    "ga_nn.loss"
   ]
  },
  {
   "cell_type": "code",
   "execution_count": null,
   "id": "f420007d",
   "metadata": {},
   "outputs": [],
   "source": [
    "sa_nn.loss"
   ]
  },
  {
   "cell_type": "code",
   "execution_count": null,
   "id": "92fd7395",
   "metadata": {},
   "outputs": [],
   "source": [
    "rhc_nn.loss"
   ]
  },
  {
   "cell_type": "code",
   "execution_count": null,
   "id": "e917a6b5",
   "metadata": {},
   "outputs": [],
   "source": [
    "mlp_clf.loss_"
   ]
  },
  {
   "cell_type": "code",
   "execution_count": 41,
   "id": "2aad41d8",
   "metadata": {},
   "outputs": [],
   "source": [
    "# ga_nn = mlrose_hiive.NeuralNetwork(\n",
    "#     hidden_nodes=[70,70],\n",
    "#     activation='sigmoid',\n",
    "#     algorithm='genetic_alg',\n",
    "#     max_iters=100,\n",
    "#     is_classifier =False,\n",
    "#     learning_rate=0.001,\n",
    "#     pop_size=300,\n",
    "#     mutation_prob=0.005,\n",
    "#     max_attempts=15,\n",
    "#     random_state=42,\n",
    "#     curve=True\n",
    "# )\n",
    "# ga_nn.fit(X_train, y_train)"
   ]
  },
  {
   "cell_type": "code",
   "execution_count": 42,
   "id": "5b9206ec",
   "metadata": {},
   "outputs": [],
   "source": [
    "# !pip install mlrose-hiive==1.3.0"
   ]
  },
  {
   "cell_type": "code",
   "execution_count": 43,
   "id": "c5dbc5d2",
   "metadata": {},
   "outputs": [],
   "source": [
    "# !pip list"
   ]
  },
  {
   "cell_type": "code",
   "execution_count": 46,
   "id": "e14e7166",
   "metadata": {},
   "outputs": [],
   "source": [
    "# digits = load_digits()\n",
    "# X = digits.data\n",
    "# y = digits.target"
   ]
  },
  {
   "cell_type": "code",
   "execution_count": 51,
   "id": "0c63a077",
   "metadata": {},
   "outputs": [],
   "source": []
  },
  {
   "cell_type": "code",
   "execution_count": 52,
   "id": "5908f04f",
   "metadata": {},
   "outputs": [],
   "source": [
    "X_train, X_test, y_train, y_test = train_test_split(X, y, test_size=0.3,random_state=gtid)"
   ]
  },
  {
   "cell_type": "code",
   "execution_count": 27,
   "id": "92055668",
   "metadata": {},
   "outputs": [],
   "source": [
    "train_score_nn,test_score_nn,mlp_clf,train_time = neural_network(X_train, X_test, y_train, y_test,graph=False)"
   ]
  },
  {
   "cell_type": "code",
   "execution_count": 28,
   "id": "b98d1dcb",
   "metadata": {},
   "outputs": [
    {
     "data": {
      "text/plain": [
       "[5.269315190231481,\n",
       " 2.24950952505607,\n",
       " 1.2669922972067282,\n",
       " 0.7879182636861477,\n",
       " 0.5605109461949236,\n",
       " 0.41740479962699295,\n",
       " 0.3280818566311731,\n",
       " 0.2707605600715604,\n",
       " 0.22511267389825365,\n",
       " 0.19634979105385056,\n",
       " 0.17111180279888852,\n",
       " 0.15233396185712636,\n",
       " 0.1349957142429866,\n",
       " 0.12217728605129168,\n",
       " 0.11174260823595873,\n",
       " 0.10160632981200134,\n",
       " 0.09286646761904938,\n",
       " 0.08456307166806708,\n",
       " 0.07737362658586769,\n",
       " 0.07048372186445793,\n",
       " 0.06545902745751754,\n",
       " 0.06062196870777149,\n",
       " 0.05657048035902601,\n",
       " 0.05091353460692587,\n",
       " 0.04826330260330204,\n",
       " 0.044652442737998746,\n",
       " 0.041086346090481604,\n",
       " 0.03812289276970039,\n",
       " 0.0347743218413452,\n",
       " 0.03311913902425103,\n",
       " 0.0317890852946289,\n",
       " 0.02875823634159781,\n",
       " 0.02665503920785821,\n",
       " 0.02505743877664553,\n",
       " 0.02334198612809467,\n",
       " 0.021867455047708668,\n",
       " 0.020676963034821715,\n",
       " 0.019667917669387865,\n",
       " 0.018573599226435696,\n",
       " 0.01750979608129104,\n",
       " 0.016673070134475595,\n",
       " 0.015594603604829496,\n",
       " 0.014883924217134515,\n",
       " 0.014166227985604072,\n",
       " 0.013538618943373734,\n",
       " 0.012710074562028086,\n",
       " 0.012150941286178421,\n",
       " 0.011640979768083684,\n",
       " 0.010893183465899212,\n",
       " 0.01035913853258634,\n",
       " 0.009990552642880988,\n",
       " 0.009263015036815975,\n",
       " 0.008930038078995823,\n",
       " 0.00851023682285777,\n",
       " 0.008154673883929054,\n",
       " 0.007671857975876134,\n",
       " 0.007288174612605285,\n",
       " 0.006900095499745302,\n",
       " 0.006725458206245247,\n",
       " 0.00631002519803097,\n",
       " 0.006110562312387871,\n",
       " 0.0057867001517561455,\n",
       " 0.005553215439458921,\n",
       " 0.005272858561465396,\n",
       " 0.00511650716128561,\n",
       " 0.004938589652476125,\n",
       " 0.0047868364813833724,\n",
       " 0.004659412833709018,\n",
       " 0.0044142835610155315,\n",
       " 0.004309474562644806,\n",
       " 0.004128009104465035,\n",
       " 0.003984162364316745,\n",
       " 0.003835583272741275,\n",
       " 0.0037120759803009394,\n",
       " 0.003615236471421008,\n",
       " 0.003471554781449261,\n",
       " 0.0034229770681809863,\n",
       " 0.0033031699040529127,\n",
       " 0.003248168954338079,\n",
       " 0.003107601970369055,\n",
       " 0.0030631133610220657,\n",
       " 0.0029464480285776714,\n",
       " 0.002923975585317731,\n",
       " 0.0028110152151670747,\n",
       " 0.002720509684737518,\n",
       " 0.002627083464630491,\n",
       " 0.002557011164556181,\n",
       " 0.0024772374888056806,\n",
       " 0.0024082274188992727,\n",
       " 0.0023395402848353244,\n",
       " 0.002268073580822621,\n",
       " 0.002191798085252136,\n",
       " 0.0021622885847315944,\n",
       " 0.002101080969476577,\n",
       " 0.002032754860468947]"
      ]
     },
     "execution_count": 28,
     "metadata": {},
     "output_type": "execute_result"
    }
   ],
   "source": [
    "mlp_clf.loss_curve_"
   ]
  },
  {
   "cell_type": "code",
   "execution_count": 58,
   "id": "3d7af23a",
   "metadata": {},
   "outputs": [
    {
     "data": {
      "text/plain": [
       "0.00212465809064553"
      ]
     },
     "execution_count": 58,
     "metadata": {},
     "output_type": "execute_result"
    }
   ],
   "source": [
    "def plot_curves(curves,names,colors):\n",
    "    for i in range(len(curves)):\n",
    "        curve=curves[i]\n",
    "        name=names[i]\n",
    "        len_x=len(curve)\n",
    "        x = np.arange(0, len_x)\n",
    "        plt.plot(x, curve, color=color, label=name)"
   ]
  },
  {
   "cell_type": "code",
   "execution_count": 70,
   "id": "4d5a3500",
   "metadata": {},
   "outputs": [
    {
     "data": {
      "text/plain": [
       "array([[2.67690078e+04, 3.00000000e+00],\n",
       "       [2.67690345e+04, 5.00000000e+00],\n",
       "       [2.67689742e+04, 7.00000000e+00],\n",
       "       [2.67689741e+04, 9.00000000e+00],\n",
       "       [2.67689989e+04, 1.10000000e+01],\n",
       "       [2.67689834e+04, 1.30000000e+01],\n",
       "       [2.67689834e+04, 1.50000000e+01],\n",
       "       [2.67689836e+04, 1.70000000e+01],\n",
       "       [2.67689836e+04, 1.90000000e+01],\n",
       "       [2.67682558e+04, 2.10000000e+01],\n",
       "       [2.67683119e+04, 2.30000000e+01],\n",
       "       [2.67683208e+04, 2.50000000e+01],\n",
       "       [2.67683219e+04, 2.70000000e+01],\n",
       "       [2.67683219e+04, 2.90000000e+01],\n",
       "       [2.67683572e+04, 3.10000000e+01],\n",
       "       [2.67688958e+04, 3.30000000e+01],\n",
       "       [2.67689241e+04, 3.50000000e+01],\n",
       "       [2.67690251e+04, 3.70000000e+01],\n",
       "       [2.67690345e+04, 3.90000000e+01],\n",
       "       [2.67685792e+04, 4.10000000e+01],\n",
       "       [2.67683960e+04, 4.30000000e+01],\n",
       "       [2.67683979e+04, 4.50000000e+01],\n",
       "       [2.67683986e+04, 4.70000000e+01],\n",
       "       [2.67683951e+04, 4.90000000e+01],\n",
       "       [2.67683925e+04, 5.10000000e+01],\n",
       "       [2.67684859e+04, 5.30000000e+01],\n",
       "       [2.67671346e+04, 5.50000000e+01],\n",
       "       [2.67671057e+04, 5.70000000e+01],\n",
       "       [2.67667886e+04, 5.90000000e+01],\n",
       "       [2.67667886e+04, 6.00000000e+01],\n",
       "       [2.67667886e+04, 6.20000000e+01],\n",
       "       [2.67666858e+04, 6.40000000e+01],\n",
       "       [2.67668252e+04, 6.60000000e+01],\n",
       "       [2.67663409e+04, 6.80000000e+01],\n",
       "       [2.67663369e+04, 7.00000000e+01],\n",
       "       [2.67664717e+04, 7.20000000e+01],\n",
       "       [2.67660730e+04, 7.40000000e+01],\n",
       "       [2.67664179e+04, 7.60000000e+01],\n",
       "       [2.67663727e+04, 7.80000000e+01],\n",
       "       [2.67663568e+04, 8.00000000e+01],\n",
       "       [2.67667639e+04, 8.20000000e+01],\n",
       "       [2.67667746e+04, 8.40000000e+01],\n",
       "       [2.67667864e+04, 8.60000000e+01],\n",
       "       [2.67666831e+04, 8.80000000e+01],\n",
       "       [2.67666830e+04, 9.00000000e+01],\n",
       "       [2.67666405e+04, 9.20000000e+01],\n",
       "       [2.67666341e+04, 9.40000000e+01],\n",
       "       [2.67666077e+04, 9.60000000e+01],\n",
       "       [2.67666337e+04, 9.80000000e+01],\n",
       "       [2.67666336e+04, 1.00000000e+02]])"
      ]
     },
     "execution_count": 70,
     "metadata": {},
     "output_type": "execute_result"
    }
   ],
   "source": [
    "sa_nn.fitness_curve[:]"
   ]
  },
  {
   "cell_type": "code",
   "execution_count": 1,
   "id": "97667be4",
   "metadata": {},
   "outputs": [
    {
     "ename": "NameError",
     "evalue": "name 'mlp_clf' is not defined",
     "output_type": "error",
     "traceback": [
      "\u001b[1;31m---------------------------------------------------------------------------\u001b[0m",
      "\u001b[1;31mNameError\u001b[0m                                 Traceback (most recent call last)",
      "Cell \u001b[1;32mIn[1], line 1\u001b[0m\n\u001b[1;32m----> 1\u001b[0m \u001b[43mmlp_clf\u001b[49m\u001b[38;5;241m.\u001b[39mloss_\n",
      "\u001b[1;31mNameError\u001b[0m: name 'mlp_clf' is not defined"
     ]
    }
   ],
   "source": [
    "mlp_clf.loss_"
   ]
  },
  {
   "cell_type": "code",
   "execution_count": null,
   "id": "d73fadfc",
   "metadata": {},
   "outputs": [],
   "source": []
  }
 ],
 "metadata": {
  "kernelspec": {
   "display_name": "Python 3 (ipykernel)",
   "language": "python",
   "name": "python3"
  },
  "language_info": {
   "codemirror_mode": {
    "name": "ipython",
    "version": 3
   },
   "file_extension": ".py",
   "mimetype": "text/x-python",
   "name": "python",
   "nbconvert_exporter": "python",
   "pygments_lexer": "ipython3",
   "version": "3.10.9"
  }
 },
 "nbformat": 4,
 "nbformat_minor": 5
}
