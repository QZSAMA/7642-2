{
 "cells": [
  {
   "cell_type": "code",
   "execution_count": 3,
   "id": "a22af8c6",
   "metadata": {},
   "outputs": [],
   "source": [
    "import mlrose_hiive\n",
    "from sklearn.model_selection import train_test_split\n",
    "import matplotlib.pyplot as plt\n",
    "import numpy as np\n",
    "from datetime import datetime\n",
    "from sklearn.neural_network import MLPClassifier"
   ]
  },
  {
   "cell_type": "code",
   "execution_count": 4,
   "id": "a8bc18e3",
   "metadata": {},
   "outputs": [],
   "source": [
    "# !pip install mlrose_hiive"
   ]
  },
  {
   "cell_type": "code",
   "execution_count": 5,
   "id": "61ff3cf9",
   "metadata": {},
   "outputs": [],
   "source": [
    "gtid=903789757"
   ]
  },
  {
   "cell_type": "code",
   "execution_count": 6,
   "id": "8e517f2b",
   "metadata": {},
   "outputs": [],
   "source": [
    "from sklearn.datasets import load_digits\n",
    "digits = load_digits()\n",
    "X = digits.data\n",
    "y = digits.target\n",
    "X_train, X_test, y_train, y_test = train_test_split(X, y, test_size=0.3,random_state=gtid)"
   ]
  },
  {
   "cell_type": "code",
   "execution_count": 7,
   "id": "9790689c",
   "metadata": {},
   "outputs": [],
   "source": [
    "# y_train"
   ]
  },
  {
   "cell_type": "code",
   "execution_count": 8,
   "id": "0ffc1ad5",
   "metadata": {},
   "outputs": [],
   "source": [
    "def neural_network(X_train, X_test, y_train, y_test,graph=False,max_iter=300,size=70):\n",
    "    mlp_clf = MLPClassifier(hidden_layer_sizes=(size, size), max_iter=max_iter)\n",
    "    begin_time=datetime.now()\n",
    "    mlp_clf.fit(X_train, y_train)\n",
    "    end_time=datetime.now()\n",
    "    # y_pred = mlp_clf.predict(X_test)\n",
    "    train_score = mlp_clf.score(X_train, y_train)\n",
    "    test_score = mlp_clf.score(X_test, y_test)\n",
    "    return train_score,test_score,mlp_clf,end_time-begin_time"
   ]
  },
  {
   "cell_type": "code",
   "execution_count": 37,
   "id": "e7fcc6dc",
   "metadata": {},
   "outputs": [
    {
     "name": "stdout",
     "output_type": "stream",
     "text": [
      "0:05:53.076488\n"
     ]
    }
   ],
   "source": [
    "ga_nn = mlrose_hiive.NeuralNetwork(\n",
    "    hidden_nodes=[70],\n",
    "    activation='relu',\n",
    "    algorithm='genetic_alg',\n",
    "    max_iters=500,\n",
    "    is_classifier =False,\n",
    "    learning_rate=0.01,\n",
    "    pop_size=300,\n",
    "    mutation_prob=0.005,\n",
    "    max_attempts=15,\n",
    "    random_state=gtid,\n",
    "    curve=True,\n",
    "#     early_stopping =True\n",
    ")\n",
    "begin_time=datetime.now()\n",
    "ga_nn.fit(X_train, y_train)\n",
    "end_time=datetime.now()\n",
    "print(end_time-begin_time)"
   ]
  },
  {
   "cell_type": "code",
   "execution_count": 22,
   "id": "79dac0b3",
   "metadata": {},
   "outputs": [
    {
     "name": "stdout",
     "output_type": "stream",
     "text": [
      "0:21:44.421287\n"
     ]
    }
   ],
   "source": [
    "rhc_nn = mlrose_hiive.NeuralNetwork(\n",
    "    hidden_nodes=[70],\n",
    "    activation='relu',\n",
    "    algorithm='random_hill_climb',\n",
    "    max_iters=50000,\n",
    "    is_classifier =False,\n",
    "    learning_rate=0.1,\n",
    "    max_attempts=150,\n",
    "    random_state=gtid,\n",
    "    curve=True,\n",
    "    restarts=10,\n",
    "#     early_stopping =True\n",
    ")\n",
    "begin_time=datetime.now()\n",
    "rhc_nn.fit(X_train, y_train)\n",
    "end_time=datetime.now()\n",
    "print(end_time-begin_time)"
   ]
  },
  {
   "cell_type": "code",
   "execution_count": 23,
   "id": "bf887ee3",
   "metadata": {},
   "outputs": [],
   "source": [
    "# begin_time=datetime.now()\n",
    "# end_time=datetime.now()\n",
    "# print(end_time-begin_time)"
   ]
  },
  {
   "cell_type": "code",
   "execution_count": 24,
   "id": "7d68a08d",
   "metadata": {},
   "outputs": [
    {
     "name": "stdout",
     "output_type": "stream",
     "text": [
      "0:02:23.584889\n"
     ]
    }
   ],
   "source": [
    "sa_nn = mlrose_hiive.NeuralNetwork(\n",
    "    hidden_nodes=[70],\n",
    "    activation='relu',\n",
    "    algorithm='simulated_annealing',\n",
    "    max_iters=50000,\n",
    "    is_classifier =False,\n",
    "    learning_rate=0.1,\n",
    "    max_attempts=150,\n",
    "    random_state=gtid,\n",
    "    curve=True,\n",
    "#     early_stopping =True\n",
    ")\n",
    "begin_time=datetime.now()\n",
    "sa_nn.fit(X_train, y_train)\n",
    "end_time=datetime.now()\n",
    "print(end_time-begin_time)"
   ]
  },
  {
   "cell_type": "code",
   "execution_count": null,
   "id": "1f2e0c4d",
   "metadata": {},
   "outputs": [],
   "source": [
    "  "
   ]
  },
  {
   "cell_type": "code",
   "execution_count": null,
   "id": "c39e0a7d",
   "metadata": {},
   "outputs": [],
   "source": []
  },
  {
   "cell_type": "code",
   "execution_count": 25,
   "id": "f6ec73ce",
   "metadata": {},
   "outputs": [],
   "source": [
    "# plt.figure(1)"
   ]
  },
  {
   "cell_type": "code",
   "execution_count": 26,
   "id": "f755d993",
   "metadata": {},
   "outputs": [],
   "source": [
    "# len(rhc_nn.fitness_curve[:,0])"
   ]
  },
  {
   "cell_type": "code",
   "execution_count": 27,
   "id": "19415f8e",
   "metadata": {},
   "outputs": [],
   "source": [
    "# len(sa_nn.fitness_curve)"
   ]
  },
  {
   "cell_type": "code",
   "execution_count": 28,
   "id": "b7798ea4",
   "metadata": {},
   "outputs": [],
   "source": [
    "train_score_nn,test_score_nn,mlp_clf,train_time = neural_network(X_train, X_test, y_train, y_test,graph=False)"
   ]
  },
  {
   "cell_type": "code",
   "execution_count": 42,
   "id": "693d6fbf",
   "metadata": {},
   "outputs": [],
   "source": [
    "mlps=[]\n",
    "for i in range(5):\n",
    "    train_score_nn,test_score_nn,mlp_clf,train_time = neural_network(X_train, X_test, y_train, y_test,graph=False)\n",
    "    mlps.append(mlp_clf.loss_)"
   ]
  },
  {
   "cell_type": "code",
   "execution_count": 44,
   "id": "5d6e6036",
   "metadata": {},
   "outputs": [
    {
     "ename": "AttributeError",
     "evalue": "'list' object has no attribute 'mean'",
     "output_type": "error",
     "traceback": [
      "\u001b[1;31m---------------------------------------------------------------------------\u001b[0m",
      "\u001b[1;31mAttributeError\u001b[0m                            Traceback (most recent call last)",
      "Cell \u001b[1;32mIn[44], line 1\u001b[0m\n\u001b[1;32m----> 1\u001b[0m \u001b[43mmlps\u001b[49m\u001b[38;5;241;43m.\u001b[39;49m\u001b[43mmean\u001b[49m\n",
      "\u001b[1;31mAttributeError\u001b[0m: 'list' object has no attribute 'mean'"
     ]
    }
   ],
   "source": [
    "mlps"
   ]
  },
  {
   "cell_type": "code",
   "execution_count": 29,
   "id": "de112833",
   "metadata": {},
   "outputs": [
    {
     "data": {
      "text/plain": [
       "<function matplotlib.pyplot.show(close=None, block=None)>"
      ]
     },
     "execution_count": 29,
     "metadata": {},
     "output_type": "execute_result"
    },
    {
     "data": {
      "image/png": "[encoded data removed]",
      "text/plain": [
       "<Figure size 640x480 with 1 Axes>"
      ]
     },
     "metadata": {},
     "output_type": "display_data"
    }
   ],
   "source": [
    "\n",
    "iters=np.arange(1, len(rhc_nn.fitness_curve[:,0])+1,1)\n",
    "plt.xlabel(\"Iterations\")\n",
    "plt.ylabel(\"Loss value\")\n",
    "plt.title(\"Loss value vs Iterations for Neural Network with Random Hill Climbing\")\n",
    "plt.plot(iters, rhc_nn.fitness_curve[:,0], marker=\"o\",markersize=1, label=\"Random Hill Climbing\")\n",
    "plt.show"
   ]
  },
  {
   "cell_type": "code",
   "execution_count": 30,
   "id": "47d9ea94",
   "metadata": {},
   "outputs": [
    {
     "data": {
      "text/plain": [
       "<function matplotlib.pyplot.show(close=None, block=None)>"
      ]
     },
     "execution_count": 30,
     "metadata": {},
     "output_type": "execute_result"
    },
    {
     "data": {
      "image/png": "[encoded data removed]",
      "text/plain": [
       "<Figure size 640x480 with 1 Axes>"
      ]
     },
     "metadata": {},
     "output_type": "display_data"
    }
   ],
   "source": [
    "\n",
    "iters=np.arange(1, len(sa_nn.fitness_curve[:,0])+1,1)\n",
    "plt.xlabel(\"Iterations\")\n",
    "plt.ylabel(\"Loss value\")\n",
    "plt.title(\"Loss value vs Iterations for Neural Network with Simulated Annealing\")\n",
    "plt.plot(iters, sa_nn.fitness_curve[:,0], marker=\"o\",markersize=1, label=\"Simulated Annealing\")\n",
    "plt.show"
   ]
  },
  {
   "cell_type": "code",
   "execution_count": 31,
   "id": "09ec8e4f",
   "metadata": {},
   "outputs": [
    {
     "data": {
      "text/plain": [
       "<function matplotlib.pyplot.show(close=None, block=None)>"
      ]
     },
     "execution_count": 31,
     "metadata": {},
     "output_type": "execute_result"
    },
    {
     "data": {
      "image/png": "[encoded data removed]",
      "text/plain": [
       "<Figure size 640x480 with 1 Axes>"
      ]
     },
     "metadata": {},
     "output_type": "display_data"
    }
   ],
   "source": [
    "\n",
    "iters=np.arange(1, len(ga_nn.fitness_curve[:,0])+1,1)\n",
    "plt.xlabel(\"Iterations\")\n",
    "plt.ylabel(\"Loss value\")\n",
    "plt.title(\"Loss value vs Iterations for Neural Network with Genetic Algorithm\")\n",
    "plt.plot(iters, ga_nn.fitness_curve[:,0], marker=\"o\",markersize=1, label=\"Genetic Algorithm\")\n",
    "plt.show"
   ]
  },
  {
   "cell_type": "code",
   "execution_count": 38,
   "id": "5dad08c4",
   "metadata": {},
   "outputs": [
    {
     "data": {
      "text/plain": [
       "<function matplotlib.pyplot.show(close=None, block=None)>"
      ]
     },
     "execution_count": 38,
     "metadata": {},
     "output_type": "execute_result"
    },
    {
     "data": {
      "image/png": "[encoded data removed]",
      "text/plain": [
       "<Figure size 640x480 with 1 Axes>"
      ]
     },
     "metadata": {},
     "output_type": "display_data"
    }
   ],
   "source": [
    "\n",
    "iters=np.arange(1, len(ga_nn.fitness_curve[:,0])+1,1)\n",
    "plt.xlabel(\"Iterations\")\n",
    "plt.ylabel(\"Loss value\")\n",
    "plt.title(\"Loss value vs Iterations for Neural Network with Genetic Algorithm\")\n",
    "plt.plot(iters, ga_nn.fitness_curve[:,0], marker=\"o\",markersize=1, label=\"Genetic Algorithm\")\n",
    "plt.show"
   ]
  },
  {
   "cell_type": "code",
   "execution_count": 39,
   "id": "ce08a40b",
   "metadata": {},
   "outputs": [
    {
     "data": {
      "text/plain": [
       "<function matplotlib.pyplot.show(close=None, block=None)>"
      ]
     },
     "execution_count": 39,
     "metadata": {},
     "output_type": "execute_result"
    },
    {
     "data": {
      "image/png": "[encoded data removed]",
      "text/plain": [
       "<Figure size 640x480 with 1 Axes>"
      ]
     },
     "metadata": {},
     "output_type": "display_data"
    }
   ],
   "source": [
    "\n",
    "iters=np.arange(1, len(mlp_clf.loss_curve_)+1,1)\n",
    "plt.xlabel(\"Iterations\")\n",
    "plt.ylabel(\"Loss value\")\n",
    "plt.title(\"Loss value vs Iterations for Neural Network with Genetic Algorithm\")\n",
    "plt.plot(iters, mlp_clf.loss_curve_, marker=\"o\",markersize=1, label=\"Genetic Algorithm\")\n",
    "plt.show\n"
   ]
  },
  {
   "cell_type": "code",
   "execution_count": null,
   "id": "474df88e",
   "metadata": {},
   "outputs": [],
   "source": [
    "# rhc_nn.fitness_curve[:,0]"
   ]
  },
  {
   "cell_type": "code",
   "execution_count": null,
   "id": "95c279f9",
   "metadata": {},
   "outputs": [],
   "source": [
    "# sa_nn.fitness_curve"
   ]
  },
  {
   "cell_type": "code",
   "execution_count": null,
   "id": "c59b2515",
   "metadata": {},
   "outputs": [],
   "source": [
    "# ga_nn.fitness_curve"
   ]
  },
  {
   "cell_type": "code",
   "execution_count": 33,
   "id": "8769805b",
   "metadata": {},
   "outputs": [
    {
     "data": {
      "text/plain": [
       "5.149881426492723e+62"
      ]
     },
     "execution_count": 33,
     "metadata": {},
     "output_type": "execute_result"
    }
   ],
   "source": [
    "ga_nn.loss"
   ]
  },
  {
   "cell_type": "code",
   "execution_count": 34,
   "id": "f420007d",
   "metadata": {},
   "outputs": [
    {
     "data": {
      "text/plain": [
       "19.0965365168829"
      ]
     },
     "execution_count": 34,
     "metadata": {},
     "output_type": "execute_result"
    }
   ],
   "source": [
    "sa_nn.loss"
   ]
  },
  {
   "cell_type": "code",
   "execution_count": 35,
   "id": "92fd7395",
   "metadata": {},
   "outputs": [
    {
     "data": {
      "text/plain": [
       "21.948625442277073"
      ]
     },
     "execution_count": 35,
     "metadata": {},
     "output_type": "execute_result"
    }
   ],
   "source": [
    "rhc_nn.loss"
   ]
  },
  {
   "cell_type": "code",
   "execution_count": 36,
   "id": "e917a6b5",
   "metadata": {},
   "outputs": [
    {
     "data": {
      "text/plain": [
       "0.0027613269959413517"
      ]
     },
     "execution_count": 36,
     "metadata": {},
     "output_type": "execute_result"
    }
   ],
   "source": [
    "mlp_clf.loss_"
   ]
  },
  {
   "cell_type": "code",
   "execution_count": 41,
   "id": "2aad41d8",
   "metadata": {},
   "outputs": [],
   "source": [
    "# ga_nn = mlrose_hiive.NeuralNetwork(\n",
    "#     hidden_nodes=[70,70],\n",
    "#     activation='sigmoid',\n",
    "#     algorithm='genetic_alg',\n",
    "#     max_iters=100,\n",
    "#     is_classifier =False,\n",
    "#     learning_rate=0.001,\n",
    "#     pop_size=300,\n",
    "#     mutation_prob=0.005,\n",
    "#     max_attempts=15,\n",
    "#     random_state=42,\n",
    "#     curve=True\n",
    "# )\n",
    "# ga_nn.fit(X_train, y_train)"
   ]
  },
  {
   "cell_type": "code",
   "execution_count": 42,
   "id": "5b9206ec",
   "metadata": {},
   "outputs": [],
   "source": [
    "# !pip install mlrose-hiive==1.3.0"
   ]
  },
  {
   "cell_type": "code",
   "execution_count": 43,
   "id": "c5dbc5d2",
   "metadata": {},
   "outputs": [],
   "source": [
    "# !pip list"
   ]
  },
  {
   "cell_type": "code",
   "execution_count": 46,
   "id": "e14e7166",
   "metadata": {},
   "outputs": [],
   "source": [
    "# digits = load_digits()\n",
    "# X = digits.data\n",
    "# y = digits.target"
   ]
  },
  {
   "cell_type": "code",
   "execution_count": 51,
   "id": "0c63a077",
   "metadata": {},
   "outputs": [],
   "source": []
  },
  {
   "cell_type": "code",
   "execution_count": 52,
   "id": "5908f04f",
   "metadata": {},
   "outputs": [],
   "source": [
    "X_train, X_test, y_train, y_test = train_test_split(X, y, test_size=0.3,random_state=gtid)"
   ]
  },
  {
   "cell_type": "code",
   "execution_count": 27,
   "id": "92055668",
   "metadata": {},
   "outputs": [],
   "source": [
    "train_score_nn,test_score_nn,mlp_clf,train_time = neural_network(X_train, X_test, y_train, y_test,graph=False)"
   ]
  },
  {
   "cell_type": "code",
   "execution_count": 28,
   "id": "b98d1dcb",
   "metadata": {},
   "outputs": [
    {
     "data": {
      "text/plain": [
       "[5.269315190231481,\n",
       " 2.24950952505607,\n",
       " 1.2669922972067282,\n",
       " 0.7879182636861477,\n",
       " 0.5605109461949236,\n",
       " 0.41740479962699295,\n",
       " 0.3280818566311731,\n",
       " 0.2707605600715604,\n",
       " 0.22511267389825365,\n",
       " 0.19634979105385056,\n",
       " 0.17111180279888852,\n",
       " 0.15233396185712636,\n",
       " 0.1349957142429866,\n",
       " 0.12217728605129168,\n",
       " 0.11174260823595873,\n",
       " 0.10160632981200134,\n",
       " 0.09286646761904938,\n",
       " 0.08456307166806708,\n",
       " 0.07737362658586769,\n",
       " 0.07048372186445793,\n",
       " 0.06545902745751754,\n",
       " 0.06062196870777149,\n",
       " 0.05657048035902601,\n",
       " 0.05091353460692587,\n",
       " 0.04826330260330204,\n",
       " 0.044652442737998746,\n",
       " 0.041086346090481604,\n",
       " 0.03812289276970039,\n",
       " 0.0347743218413452,\n",
       " 0.03311913902425103,\n",
       " 0.0317890852946289,\n",
       " 0.02875823634159781,\n",
       " 0.02665503920785821,\n",
       " 0.02505743877664553,\n",
       " 0.02334198612809467,\n",
       " 0.021867455047708668,\n",
       " 0.020676963034821715,\n",
       " 0.019667917669387865,\n",
       " 0.018573599226435696,\n",
       " 0.01750979608129104,\n",
       " 0.016673070134475595,\n",
       " 0.015594603604829496,\n",
       " 0.014883924217134515,\n",
       " 0.014166227985604072,\n",
       " 0.013538618943373734,\n",
       " 0.012710074562028086,\n",
       " 0.012150941286178421,\n",
       " 0.011640979768083684,\n",
       " 0.010893183465899212,\n",
       " 0.01035913853258634,\n",
       " 0.009990552642880988,\n",
       " 0.009263015036815975,\n",
       " 0.008930038078995823,\n",
       " 0.00851023682285777,\n",
       " 0.008154673883929054,\n",
       " 0.007671857975876134,\n",
       " 0.007288174612605285,\n",
       " 0.006900095499745302,\n",
       " 0.006725458206245247,\n",
       " 0.00631002519803097,\n",
       " 0.006110562312387871,\n",
       " 0.0057867001517561455,\n",
       " 0.005553215439458921,\n",
       " 0.005272858561465396,\n",
       " 0.00511650716128561,\n",
       " 0.004938589652476125,\n",
       " 0.0047868364813833724,\n",
       " 0.004659412833709018,\n",
       " 0.0044142835610155315,\n",
       " 0.004309474562644806,\n",
       " 0.004128009104465035,\n",
       " 0.003984162364316745,\n",
       " 0.003835583272741275,\n",
       " 0.0037120759803009394,\n",
       " 0.003615236471421008,\n",
       " 0.003471554781449261,\n",
       " 0.0034229770681809863,\n",
       " 0.0033031699040529127,\n",
       " 0.003248168954338079,\n",
       " 0.003107601970369055,\n",
       " 0.0030631133610220657,\n",
       " 0.0029464480285776714,\n",
       " 0.002923975585317731,\n",
       " 0.0028110152151670747,\n",
       " 0.002720509684737518,\n",
       " 0.002627083464630491,\n",
       " 0.002557011164556181,\n",
       " 0.0024772374888056806,\n",
       " 0.0024082274188992727,\n",
       " 0.0023395402848353244,\n",
       " 0.002268073580822621,\n",
       " 0.002191798085252136,\n",
       " 0.0021622885847315944,\n",
       " 0.002101080969476577,\n",
       " 0.002032754860468947]"
      ]
     },
     "execution_count": 28,
     "metadata": {},
     "output_type": "execute_result"
    }
   ],
   "source": [
    "mlp_clf.loss_curve_"
   ]
  },
  {
   "cell_type": "code",
   "execution_count": 58,
   "id": "3d7af23a",
   "metadata": {},
   "outputs": [
    {
     "data": {
      "text/plain": [
       "0.00212465809064553"
      ]
     },
     "execution_count": 58,
     "metadata": {},
     "output_type": "execute_result"
    }
   ],
   "source": [
    "def plot_curves(curves,names,colors):\n",
    "    for i in range(len(curves)):\n",
    "        curve=curves[i]\n",
    "        name=names[i]\n",
    "        len_x=len(curve)\n",
    "        x = np.arange(0, len_x)\n",
    "        plt.plot(x, curve, color=color, label=name)"
   ]
  },
  {
   "cell_type": "code",
   "execution_count": 41,
   "id": "4d5a3500",
   "metadata": {},
   "outputs": [
    {
     "data": {
      "text/plain": [
       "array([[1.47203870e+43, 6.03000000e+02],\n",
       "       [1.47203870e+43, 9.04000000e+02],\n",
       "       [1.47203870e+43, 1.20500000e+03],\n",
       "       [1.47203870e+43, 1.50600000e+03],\n",
       "       [1.47203870e+43, 1.80700000e+03],\n",
       "       [1.47203870e+43, 2.10800000e+03],\n",
       "       [1.43025913e+43, 2.41000000e+03],\n",
       "       [1.36108533e+43, 2.71200000e+03],\n",
       "       [1.32070273e+43, 3.01400000e+03],\n",
       "       [1.09099474e+43, 3.31600000e+03],\n",
       "       [1.09099474e+43, 3.61700000e+03],\n",
       "       [1.09099474e+43, 3.91800000e+03],\n",
       "       [1.09099474e+43, 4.21900000e+03],\n",
       "       [1.09099474e+43, 4.52000000e+03],\n",
       "       [8.53459110e+42, 4.82200000e+03],\n",
       "       [8.53459110e+42, 5.12300000e+03],\n",
       "       [8.53459110e+42, 5.42400000e+03],\n",
       "       [8.53459110e+42, 5.72500000e+03],\n",
       "       [8.53459110e+42, 6.02600000e+03],\n",
       "       [8.36370417e+42, 6.32800000e+03],\n",
       "       [8.36370417e+42, 6.62900000e+03],\n",
       "       [8.36370417e+42, 6.93000000e+03],\n",
       "       [8.36370417e+42, 7.23100000e+03],\n",
       "       [8.36370417e+42, 7.53200000e+03],\n",
       "       [8.36370417e+42, 7.83300000e+03],\n",
       "       [8.36370417e+42, 8.13400000e+03],\n",
       "       [8.02707447e+42, 8.43600000e+03],\n",
       "       [8.02707447e+42, 8.73700000e+03],\n",
       "       [8.02707447e+42, 9.03800000e+03],\n",
       "       [7.54506312e+42, 9.34000000e+03],\n",
       "       [7.54506312e+42, 9.64100000e+03],\n",
       "       [7.54506312e+42, 9.94200000e+03],\n",
       "       [7.54506312e+42, 1.02430000e+04],\n",
       "       [6.62212126e+42, 1.05450000e+04],\n",
       "       [6.62212126e+42, 1.08460000e+04],\n",
       "       [6.62212126e+42, 1.11470000e+04],\n",
       "       [6.62212126e+42, 1.14480000e+04],\n",
       "       [6.62212126e+42, 1.17490000e+04],\n",
       "       [6.62212126e+42, 1.20500000e+04],\n",
       "       [6.62212126e+42, 1.23510000e+04],\n",
       "       [6.28861167e+42, 1.26530000e+04],\n",
       "       [6.28861167e+42, 1.29540000e+04],\n",
       "       [5.34077089e+42, 1.32560000e+04],\n",
       "       [5.34077089e+42, 1.35570000e+04],\n",
       "       [5.34077089e+42, 1.38580000e+04],\n",
       "       [5.34077089e+42, 1.41590000e+04],\n",
       "       [5.34077089e+42, 1.44600000e+04],\n",
       "       [5.34077089e+42, 1.47610000e+04],\n",
       "       [5.06042426e+42, 1.50630000e+04],\n",
       "       [5.06042426e+42, 1.53640000e+04],\n",
       "       [5.06042426e+42, 1.56650000e+04],\n",
       "       [5.06042426e+42, 1.59660000e+04],\n",
       "       [5.06042426e+42, 1.62670000e+04],\n",
       "       [4.81053414e+42, 1.65690000e+04],\n",
       "       [4.81053414e+42, 1.68700000e+04],\n",
       "       [4.81053414e+42, 1.71710000e+04],\n",
       "       [4.81053414e+42, 1.74720000e+04],\n",
       "       [4.81053414e+42, 1.77730000e+04],\n",
       "       [4.77331028e+42, 1.80750000e+04],\n",
       "       [4.41213253e+42, 1.83770000e+04],\n",
       "       [4.41213253e+42, 1.86780000e+04],\n",
       "       [4.20027979e+42, 1.89800000e+04],\n",
       "       [4.20027979e+42, 1.92810000e+04],\n",
       "       [4.20027979e+42, 1.95820000e+04],\n",
       "       [4.20027979e+42, 1.98830000e+04],\n",
       "       [4.20027979e+42, 2.01840000e+04],\n",
       "       [3.82933180e+42, 2.04860000e+04],\n",
       "       [3.82933180e+42, 2.07870000e+04],\n",
       "       [3.32238677e+42, 2.10890000e+04],\n",
       "       [3.32238677e+42, 2.13900000e+04],\n",
       "       [3.32238677e+42, 2.16910000e+04],\n",
       "       [3.32238677e+42, 2.19920000e+04],\n",
       "       [3.32238677e+42, 2.22930000e+04],\n",
       "       [3.32238677e+42, 2.25940000e+04],\n",
       "       [3.32238677e+42, 2.28950000e+04],\n",
       "       [3.32238677e+42, 2.31960000e+04],\n",
       "       [3.32238677e+42, 2.34970000e+04],\n",
       "       [3.30126435e+42, 2.37990000e+04],\n",
       "       [3.24524024e+42, 2.41010000e+04],\n",
       "       [3.24524024e+42, 2.44020000e+04],\n",
       "       [3.03195409e+42, 2.47040000e+04],\n",
       "       [3.03195409e+42, 2.50050000e+04],\n",
       "       [2.48470555e+42, 2.53070000e+04],\n",
       "       [2.48470555e+42, 2.56080000e+04],\n",
       "       [2.48470555e+42, 2.59090000e+04],\n",
       "       [2.48470555e+42, 2.62100000e+04],\n",
       "       [2.48470555e+42, 2.65110000e+04],\n",
       "       [2.48470555e+42, 2.68120000e+04],\n",
       "       [2.48470555e+42, 2.71130000e+04],\n",
       "       [2.48470555e+42, 2.74140000e+04],\n",
       "       [2.48470555e+42, 2.77150000e+04],\n",
       "       [2.48470555e+42, 2.80160000e+04],\n",
       "       [2.15491683e+42, 2.83180000e+04],\n",
       "       [2.15491683e+42, 2.86190000e+04],\n",
       "       [2.15491683e+42, 2.89200000e+04],\n",
       "       [2.15491683e+42, 2.92210000e+04],\n",
       "       [2.15491683e+42, 2.95220000e+04],\n",
       "       [2.15491683e+42, 2.98230000e+04],\n",
       "       [2.15491683e+42, 3.01240000e+04],\n",
       "       [2.15491683e+42, 3.04250000e+04],\n",
       "       [2.15491683e+42, 3.07260000e+04],\n",
       "       [2.15491683e+42, 3.10270000e+04],\n",
       "       [2.15491683e+42, 3.13280000e+04],\n",
       "       [2.15491683e+42, 3.16290000e+04],\n",
       "       [2.15491683e+42, 3.19300000e+04],\n",
       "       [2.15491683e+42, 3.22310000e+04],\n",
       "       [2.15491683e+42, 3.25320000e+04],\n",
       "       [2.15491683e+42, 3.28330000e+04],\n",
       "       [2.15491683e+42, 3.31340000e+04],\n",
       "       [2.15491683e+42, 3.34350000e+04],\n",
       "       [2.15491683e+42, 3.37360000e+04],\n",
       "       [2.15491683e+42, 3.40370000e+04],\n",
       "       [2.15491683e+42, 3.43380000e+04],\n",
       "       [2.15491683e+42, 3.46390000e+04],\n",
       "       [2.15491683e+42, 3.49400000e+04],\n",
       "       [2.15491683e+42, 3.52410000e+04],\n",
       "       [2.15491683e+42, 3.55420000e+04],\n",
       "       [2.15491683e+42, 3.58430000e+04],\n",
       "       [2.03298361e+42, 3.61450000e+04],\n",
       "       [2.03298361e+42, 3.64460000e+04],\n",
       "       [2.03298361e+42, 3.67470000e+04],\n",
       "       [2.03298361e+42, 3.70480000e+04],\n",
       "       [2.03298361e+42, 3.73490000e+04],\n",
       "       [2.03298361e+42, 3.76500000e+04],\n",
       "       [2.03298361e+42, 3.79510000e+04],\n",
       "       [2.03298361e+42, 3.82520000e+04],\n",
       "       [2.03298361e+42, 3.85530000e+04],\n",
       "       [1.97971374e+42, 3.88550000e+04],\n",
       "       [1.97971374e+42, 3.91560000e+04],\n",
       "       [1.97971374e+42, 3.94570000e+04],\n",
       "       [1.97971374e+42, 3.97580000e+04],\n",
       "       [1.97971374e+42, 4.00590000e+04],\n",
       "       [1.95081747e+42, 4.03610000e+04],\n",
       "       [1.95081747e+42, 4.06620000e+04],\n",
       "       [1.95081747e+42, 4.09630000e+04],\n",
       "       [1.95081747e+42, 4.12640000e+04],\n",
       "       [1.95081747e+42, 4.15650000e+04],\n",
       "       [1.84603179e+42, 4.18670000e+04],\n",
       "       [1.84603179e+42, 4.21680000e+04],\n",
       "       [1.84603179e+42, 4.24690000e+04],\n",
       "       [1.84603179e+42, 4.27700000e+04],\n",
       "       [1.84603179e+42, 4.30710000e+04],\n",
       "       [1.84603179e+42, 4.33720000e+04],\n",
       "       [1.75864324e+42, 4.36740000e+04],\n",
       "       [1.75864324e+42, 4.39750000e+04],\n",
       "       [1.75864324e+42, 4.42760000e+04],\n",
       "       [1.75864324e+42, 4.45770000e+04],\n",
       "       [1.75864324e+42, 4.48780000e+04],\n",
       "       [1.75864324e+42, 4.51790000e+04],\n",
       "       [1.75864324e+42, 4.54800000e+04],\n",
       "       [1.75864324e+42, 4.57810000e+04],\n",
       "       [1.75864324e+42, 4.60820000e+04],\n",
       "       [1.75864324e+42, 4.63830000e+04],\n",
       "       [1.75864324e+42, 4.66840000e+04],\n",
       "       [1.75864324e+42, 4.69850000e+04],\n",
       "       [1.75864324e+42, 4.72860000e+04],\n",
       "       [1.75864324e+42, 4.75870000e+04],\n",
       "       [1.75864324e+42, 4.78880000e+04],\n",
       "       [1.75864324e+42, 4.81890000e+04],\n",
       "       [1.75864324e+42, 4.84900000e+04],\n",
       "       [1.75864324e+42, 4.87910000e+04],\n",
       "       [1.75864324e+42, 4.90920000e+04],\n",
       "       [1.75864324e+42, 4.93930000e+04],\n",
       "       [1.75864324e+42, 4.96940000e+04],\n",
       "       [1.75864324e+42, 4.99950000e+04],\n",
       "       [1.75864324e+42, 5.02960000e+04],\n",
       "       [1.75864324e+42, 5.05970000e+04],\n",
       "       [1.75864324e+42, 5.08980000e+04],\n",
       "       [1.75864324e+42, 5.11990000e+04],\n",
       "       [1.75864324e+42, 5.15000000e+04],\n",
       "       [1.75864324e+42, 5.18010000e+04],\n",
       "       [1.75864324e+42, 5.21020000e+04],\n",
       "       [1.69289087e+42, 5.24040000e+04],\n",
       "       [1.69289087e+42, 5.27050000e+04],\n",
       "       [1.69289087e+42, 5.30060000e+04],\n",
       "       [1.69289087e+42, 5.33070000e+04],\n",
       "       [1.69289087e+42, 5.36080000e+04],\n",
       "       [1.69289087e+42, 5.39090000e+04],\n",
       "       [1.69289087e+42, 5.42100000e+04],\n",
       "       [1.69289087e+42, 5.45110000e+04],\n",
       "       [1.69289087e+42, 5.48120000e+04],\n",
       "       [1.69289087e+42, 5.51130000e+04],\n",
       "       [1.69289087e+42, 5.54140000e+04],\n",
       "       [1.69289087e+42, 5.57150000e+04],\n",
       "       [1.69289087e+42, 5.60160000e+04],\n",
       "       [1.69289087e+42, 5.63170000e+04],\n",
       "       [1.69289087e+42, 5.66180000e+04],\n",
       "       [1.69289087e+42, 5.69190000e+04],\n",
       "       [1.69289087e+42, 5.72200000e+04],\n",
       "       [1.69289087e+42, 5.75210000e+04],\n",
       "       [1.69289087e+42, 5.78220000e+04],\n",
       "       [1.69289087e+42, 5.81230000e+04],\n",
       "       [1.69289087e+42, 5.84240000e+04],\n",
       "       [1.69289087e+42, 5.87250000e+04],\n",
       "       [1.69289087e+42, 5.90260000e+04],\n",
       "       [1.69289087e+42, 5.93270000e+04],\n",
       "       [1.69289087e+42, 5.96280000e+04],\n",
       "       [1.69289087e+42, 5.99290000e+04],\n",
       "       [1.69289087e+42, 6.02300000e+04],\n",
       "       [1.69289087e+42, 6.05310000e+04],\n",
       "       [1.69289087e+42, 6.08320000e+04],\n",
       "       [1.69289087e+42, 6.11330000e+04],\n",
       "       [1.69289087e+42, 6.14340000e+04],\n",
       "       [1.69289087e+42, 6.17350000e+04],\n",
       "       [1.69289087e+42, 6.20360000e+04],\n",
       "       [1.69289087e+42, 6.23370000e+04],\n",
       "       [1.69289087e+42, 6.26380000e+04],\n",
       "       [1.69289087e+42, 6.29390000e+04],\n",
       "       [1.69289087e+42, 6.32400000e+04],\n",
       "       [1.69289087e+42, 6.35410000e+04],\n",
       "       [1.69289087e+42, 6.38420000e+04],\n",
       "       [1.69289087e+42, 6.41430000e+04],\n",
       "       [1.69289087e+42, 6.44440000e+04],\n",
       "       [1.69289087e+42, 6.47450000e+04],\n",
       "       [1.69289087e+42, 6.50460000e+04],\n",
       "       [1.69289087e+42, 6.53470000e+04],\n",
       "       [1.69289087e+42, 6.56480000e+04],\n",
       "       [1.69289087e+42, 6.59490000e+04],\n",
       "       [1.69289087e+42, 6.62500000e+04],\n",
       "       [1.69289087e+42, 6.65510000e+04],\n",
       "       [1.69289087e+42, 6.68520000e+04],\n",
       "       [1.68229145e+42, 6.71540000e+04],\n",
       "       [1.68229145e+42, 6.74550000e+04],\n",
       "       [1.68229145e+42, 6.77560000e+04],\n",
       "       [1.68229145e+42, 6.80570000e+04],\n",
       "       [1.68229145e+42, 6.83580000e+04],\n",
       "       [1.68229145e+42, 6.86590000e+04],\n",
       "       [1.68229145e+42, 6.89600000e+04],\n",
       "       [1.68229145e+42, 6.92610000e+04],\n",
       "       [1.68229145e+42, 6.95620000e+04],\n",
       "       [1.61666940e+42, 6.98640000e+04],\n",
       "       [1.61666940e+42, 7.01650000e+04],\n",
       "       [1.61666940e+42, 7.04660000e+04],\n",
       "       [1.61666940e+42, 7.07670000e+04],\n",
       "       [1.61666940e+42, 7.10680000e+04],\n",
       "       [1.61666940e+42, 7.13690000e+04],\n",
       "       [1.56887967e+42, 7.16710000e+04],\n",
       "       [1.44271512e+42, 7.19730000e+04],\n",
       "       [1.44271512e+42, 7.22740000e+04],\n",
       "       [1.44271512e+42, 7.25750000e+04],\n",
       "       [1.44271512e+42, 7.28760000e+04],\n",
       "       [1.44271512e+42, 7.31770000e+04],\n",
       "       [1.44271512e+42, 7.34780000e+04],\n",
       "       [1.44271512e+42, 7.37790000e+04],\n",
       "       [1.44271512e+42, 7.40800000e+04],\n",
       "       [1.44271512e+42, 7.43810000e+04],\n",
       "       [1.44271512e+42, 7.46820000e+04],\n",
       "       [1.44271512e+42, 7.49830000e+04],\n",
       "       [1.44271512e+42, 7.52840000e+04],\n",
       "       [1.44271512e+42, 7.55850000e+04],\n",
       "       [1.44271512e+42, 7.58860000e+04],\n",
       "       [1.44271512e+42, 7.61870000e+04],\n",
       "       [1.44271512e+42, 7.64880000e+04],\n",
       "       [1.44271512e+42, 7.67890000e+04],\n",
       "       [1.44271512e+42, 7.70900000e+04],\n",
       "       [1.44271512e+42, 7.73910000e+04],\n",
       "       [1.44271512e+42, 7.76920000e+04],\n",
       "       [1.44271512e+42, 7.79930000e+04],\n",
       "       [1.44271512e+42, 7.82940000e+04],\n",
       "       [1.44271512e+42, 7.85950000e+04],\n",
       "       [1.44271512e+42, 7.88960000e+04],\n",
       "       [1.44271512e+42, 7.91970000e+04],\n",
       "       [1.44271512e+42, 7.94980000e+04],\n",
       "       [1.44271512e+42, 7.97990000e+04],\n",
       "       [1.44271512e+42, 8.01000000e+04],\n",
       "       [1.44271512e+42, 8.04010000e+04],\n",
       "       [1.44271512e+42, 8.07020000e+04],\n",
       "       [1.44271512e+42, 8.10030000e+04],\n",
       "       [1.44271512e+42, 8.13040000e+04],\n",
       "       [1.44271512e+42, 8.16050000e+04],\n",
       "       [1.44271512e+42, 8.19060000e+04],\n",
       "       [1.44271512e+42, 8.22070000e+04],\n",
       "       [1.44271512e+42, 8.25080000e+04],\n",
       "       [1.44271512e+42, 8.28090000e+04],\n",
       "       [1.44271512e+42, 8.31100000e+04],\n",
       "       [1.44271512e+42, 8.34110000e+04],\n",
       "       [1.44271512e+42, 8.37120000e+04],\n",
       "       [1.44271512e+42, 8.40130000e+04],\n",
       "       [1.44271512e+42, 8.43140000e+04],\n",
       "       [1.44271512e+42, 8.46150000e+04],\n",
       "       [1.44271512e+42, 8.49160000e+04],\n",
       "       [1.44271512e+42, 8.52170000e+04],\n",
       "       [1.44271512e+42, 8.55180000e+04],\n",
       "       [1.44271512e+42, 8.58190000e+04],\n",
       "       [1.44271512e+42, 8.61200000e+04],\n",
       "       [1.44271512e+42, 8.64210000e+04],\n",
       "       [1.44271512e+42, 8.67220000e+04],\n",
       "       [1.44271512e+42, 8.70230000e+04],\n",
       "       [1.44271512e+42, 8.73240000e+04],\n",
       "       [1.44271512e+42, 8.76250000e+04],\n",
       "       [1.44271512e+42, 8.79260000e+04],\n",
       "       [1.44271512e+42, 8.82270000e+04],\n",
       "       [1.44271512e+42, 8.85280000e+04],\n",
       "       [1.44271512e+42, 8.88290000e+04],\n",
       "       [1.35787254e+42, 8.91310000e+04],\n",
       "       [1.35787254e+42, 8.94320000e+04],\n",
       "       [1.35787254e+42, 8.97330000e+04],\n",
       "       [1.35787254e+42, 9.00340000e+04],\n",
       "       [1.35787254e+42, 9.03350000e+04],\n",
       "       [1.35787254e+42, 9.06360000e+04],\n",
       "       [1.35787254e+42, 9.09370000e+04],\n",
       "       [1.35787254e+42, 9.12380000e+04],\n",
       "       [1.35787254e+42, 9.15390000e+04],\n",
       "       [1.35787254e+42, 9.18400000e+04],\n",
       "       [1.35787254e+42, 9.21410000e+04],\n",
       "       [1.32510512e+42, 9.24430000e+04],\n",
       "       [1.32510512e+42, 9.27440000e+04],\n",
       "       [1.32510512e+42, 9.30450000e+04],\n",
       "       [1.32510512e+42, 9.33460000e+04],\n",
       "       [1.32510512e+42, 9.36470000e+04],\n",
       "       [1.32510512e+42, 9.39480000e+04],\n",
       "       [1.32510512e+42, 9.42490000e+04],\n",
       "       [1.32510512e+42, 9.45500000e+04],\n",
       "       [1.32510512e+42, 9.48510000e+04],\n",
       "       [1.32510512e+42, 9.51520000e+04],\n",
       "       [1.32510512e+42, 9.54530000e+04],\n",
       "       [1.32510512e+42, 9.57540000e+04],\n",
       "       [1.32510512e+42, 9.60550000e+04],\n",
       "       [1.32510512e+42, 9.63560000e+04],\n",
       "       [1.32510512e+42, 9.66570000e+04],\n",
       "       [1.32510512e+42, 9.69580000e+04],\n",
       "       [1.32510512e+42, 9.72590000e+04],\n",
       "       [1.28565267e+42, 9.75610000e+04],\n",
       "       [1.28565267e+42, 9.78620000e+04],\n",
       "       [1.28565267e+42, 9.81630000e+04],\n",
       "       [1.28565267e+42, 9.84640000e+04],\n",
       "       [1.28565267e+42, 9.87650000e+04],\n",
       "       [1.28565267e+42, 9.90660000e+04],\n",
       "       [1.28565267e+42, 9.93670000e+04],\n",
       "       [1.28565267e+42, 9.96680000e+04],\n",
       "       [1.28565267e+42, 9.99690000e+04],\n",
       "       [1.28565267e+42, 1.00270000e+05],\n",
       "       [1.28565267e+42, 1.00571000e+05],\n",
       "       [1.28565267e+42, 1.00872000e+05],\n",
       "       [1.28565267e+42, 1.01173000e+05],\n",
       "       [1.28565267e+42, 1.01474000e+05],\n",
       "       [1.28565267e+42, 1.01775000e+05],\n",
       "       [1.28565267e+42, 1.02076000e+05],\n",
       "       [1.28565267e+42, 1.02377000e+05],\n",
       "       [1.28565267e+42, 1.02678000e+05],\n",
       "       [1.28565267e+42, 1.02979000e+05],\n",
       "       [1.28565267e+42, 1.03280000e+05],\n",
       "       [1.28565267e+42, 1.03581000e+05],\n",
       "       [1.28565267e+42, 1.03882000e+05],\n",
       "       [1.28565267e+42, 1.04183000e+05],\n",
       "       [1.28565267e+42, 1.04484000e+05],\n",
       "       [1.28565267e+42, 1.04785000e+05],\n",
       "       [1.28565267e+42, 1.05086000e+05],\n",
       "       [1.28565267e+42, 1.05387000e+05],\n",
       "       [1.28565267e+42, 1.05688000e+05],\n",
       "       [1.28565267e+42, 1.05989000e+05],\n",
       "       [1.28565267e+42, 1.06290000e+05],\n",
       "       [1.28565267e+42, 1.06591000e+05],\n",
       "       [1.28565267e+42, 1.06892000e+05],\n",
       "       [1.28565267e+42, 1.07193000e+05],\n",
       "       [1.28565267e+42, 1.07494000e+05],\n",
       "       [1.28565267e+42, 1.07795000e+05],\n",
       "       [1.28565267e+42, 1.08096000e+05],\n",
       "       [1.28565267e+42, 1.08397000e+05],\n",
       "       [1.28565267e+42, 1.08698000e+05],\n",
       "       [1.28565267e+42, 1.08999000e+05],\n",
       "       [1.28565267e+42, 1.09300000e+05],\n",
       "       [1.28565267e+42, 1.09601000e+05],\n",
       "       [1.28565267e+42, 1.09902000e+05],\n",
       "       [1.28565267e+42, 1.10203000e+05],\n",
       "       [1.28565267e+42, 1.10504000e+05],\n",
       "       [1.28565267e+42, 1.10805000e+05],\n",
       "       [1.28565267e+42, 1.11106000e+05],\n",
       "       [1.27201781e+42, 1.11408000e+05],\n",
       "       [1.27201781e+42, 1.11709000e+05],\n",
       "       [1.27201781e+42, 1.12010000e+05],\n",
       "       [1.27201781e+42, 1.12311000e+05],\n",
       "       [1.27201781e+42, 1.12612000e+05],\n",
       "       [1.24391600e+42, 1.12914000e+05],\n",
       "       [1.24391600e+42, 1.13215000e+05],\n",
       "       [1.24391600e+42, 1.13516000e+05],\n",
       "       [1.24391600e+42, 1.13817000e+05],\n",
       "       [1.24391600e+42, 1.14118000e+05],\n",
       "       [1.24391600e+42, 1.14419000e+05],\n",
       "       [1.24391600e+42, 1.14720000e+05],\n",
       "       [1.21574503e+42, 1.15022000e+05],\n",
       "       [1.21574503e+42, 1.15323000e+05],\n",
       "       [1.21574503e+42, 1.15624000e+05],\n",
       "       [1.21574503e+42, 1.15925000e+05],\n",
       "       [1.21574503e+42, 1.16226000e+05],\n",
       "       [1.21574503e+42, 1.16527000e+05],\n",
       "       [1.21574503e+42, 1.16828000e+05],\n",
       "       [1.21574503e+42, 1.17129000e+05],\n",
       "       [1.21574503e+42, 1.17430000e+05],\n",
       "       [1.21574503e+42, 1.17731000e+05],\n",
       "       [1.18626119e+42, 1.18033000e+05],\n",
       "       [1.18626119e+42, 1.18334000e+05],\n",
       "       [1.18626119e+42, 1.18635000e+05],\n",
       "       [1.18626119e+42, 1.18936000e+05],\n",
       "       [1.18626119e+42, 1.19237000e+05],\n",
       "       [1.18626119e+42, 1.19538000e+05],\n",
       "       [1.18626119e+42, 1.19839000e+05],\n",
       "       [1.18626119e+42, 1.20140000e+05],\n",
       "       [1.18626119e+42, 1.20441000e+05],\n",
       "       [1.18626119e+42, 1.20742000e+05],\n",
       "       [1.18626119e+42, 1.21043000e+05],\n",
       "       [1.18626119e+42, 1.21344000e+05],\n",
       "       [1.18626119e+42, 1.21645000e+05],\n",
       "       [1.18626119e+42, 1.21946000e+05],\n",
       "       [1.18626119e+42, 1.22247000e+05],\n",
       "       [1.18626119e+42, 1.22548000e+05],\n",
       "       [1.18626119e+42, 1.22849000e+05],\n",
       "       [1.18626119e+42, 1.23150000e+05],\n",
       "       [1.18626119e+42, 1.23451000e+05],\n",
       "       [1.18626119e+42, 1.23752000e+05],\n",
       "       [1.18626119e+42, 1.24053000e+05],\n",
       "       [1.18626119e+42, 1.24354000e+05],\n",
       "       [1.18626119e+42, 1.24655000e+05],\n",
       "       [1.18626119e+42, 1.24956000e+05],\n",
       "       [1.18626119e+42, 1.25257000e+05],\n",
       "       [1.18626119e+42, 1.25558000e+05],\n",
       "       [1.18626119e+42, 1.25859000e+05],\n",
       "       [1.18626119e+42, 1.26160000e+05],\n",
       "       [1.18626119e+42, 1.26461000e+05],\n",
       "       [1.18626119e+42, 1.26762000e+05],\n",
       "       [1.18626119e+42, 1.27063000e+05],\n",
       "       [1.18626119e+42, 1.27364000e+05],\n",
       "       [1.18626119e+42, 1.27665000e+05],\n",
       "       [1.18626119e+42, 1.27966000e+05],\n",
       "       [1.18626119e+42, 1.28267000e+05],\n",
       "       [1.18626119e+42, 1.28568000e+05],\n",
       "       [1.18626119e+42, 1.28869000e+05],\n",
       "       [1.18626119e+42, 1.29170000e+05],\n",
       "       [1.18626119e+42, 1.29471000e+05],\n",
       "       [1.18626119e+42, 1.29772000e+05],\n",
       "       [1.18626119e+42, 1.30073000e+05],\n",
       "       [1.18626119e+42, 1.30374000e+05],\n",
       "       [1.18626119e+42, 1.30675000e+05],\n",
       "       [1.18626119e+42, 1.30976000e+05],\n",
       "       [1.18626119e+42, 1.31277000e+05],\n",
       "       [1.18626119e+42, 1.31578000e+05],\n",
       "       [1.18626119e+42, 1.31879000e+05],\n",
       "       [1.18626119e+42, 1.32180000e+05],\n",
       "       [1.18626119e+42, 1.32481000e+05],\n",
       "       [1.16677768e+42, 1.32783000e+05],\n",
       "       [1.16677768e+42, 1.33084000e+05],\n",
       "       [1.16677768e+42, 1.33385000e+05],\n",
       "       [1.16677768e+42, 1.33686000e+05],\n",
       "       [1.16677768e+42, 1.33987000e+05],\n",
       "       [1.16677768e+42, 1.34288000e+05],\n",
       "       [1.16677768e+42, 1.34589000e+05],\n",
       "       [1.16677768e+42, 1.34890000e+05],\n",
       "       [1.16677768e+42, 1.35191000e+05],\n",
       "       [1.16677768e+42, 1.35492000e+05],\n",
       "       [1.14892130e+42, 1.35794000e+05],\n",
       "       [1.14892130e+42, 1.36095000e+05],\n",
       "       [1.14892130e+42, 1.36396000e+05],\n",
       "       [1.14892130e+42, 1.36697000e+05],\n",
       "       [1.14892130e+42, 1.36998000e+05],\n",
       "       [1.14892130e+42, 1.37299000e+05],\n",
       "       [1.14892130e+42, 1.37600000e+05],\n",
       "       [1.14892130e+42, 1.37901000e+05],\n",
       "       [1.14892130e+42, 1.38202000e+05],\n",
       "       [1.14892130e+42, 1.38503000e+05],\n",
       "       [1.14892130e+42, 1.38804000e+05],\n",
       "       [1.12823262e+42, 1.39106000e+05],\n",
       "       [1.12823262e+42, 1.39407000e+05],\n",
       "       [1.12823262e+42, 1.39708000e+05],\n",
       "       [1.12823262e+42, 1.40009000e+05],\n",
       "       [1.12823262e+42, 1.40310000e+05],\n",
       "       [1.12823262e+42, 1.40611000e+05],\n",
       "       [1.12823262e+42, 1.40912000e+05],\n",
       "       [1.12823262e+42, 1.41213000e+05],\n",
       "       [1.12823262e+42, 1.41514000e+05],\n",
       "       [1.12823262e+42, 1.41815000e+05],\n",
       "       [1.12823262e+42, 1.42116000e+05],\n",
       "       [1.12823262e+42, 1.42417000e+05],\n",
       "       [1.12823262e+42, 1.42718000e+05],\n",
       "       [1.12823262e+42, 1.43019000e+05],\n",
       "       [1.12823262e+42, 1.43320000e+05],\n",
       "       [1.12823262e+42, 1.43621000e+05],\n",
       "       [1.12823262e+42, 1.43922000e+05],\n",
       "       [1.12823262e+42, 1.44223000e+05],\n",
       "       [1.04474032e+42, 1.44525000e+05],\n",
       "       [1.04474032e+42, 1.44826000e+05],\n",
       "       [1.04474032e+42, 1.45127000e+05],\n",
       "       [1.04474032e+42, 1.45428000e+05],\n",
       "       [1.04474032e+42, 1.45729000e+05],\n",
       "       [1.04474032e+42, 1.46030000e+05],\n",
       "       [1.04474032e+42, 1.46331000e+05],\n",
       "       [1.04474032e+42, 1.46632000e+05],\n",
       "       [1.04474032e+42, 1.46933000e+05],\n",
       "       [1.04474032e+42, 1.47234000e+05],\n",
       "       [1.04474032e+42, 1.47535000e+05],\n",
       "       [1.04474032e+42, 1.47836000e+05],\n",
       "       [1.04474032e+42, 1.48137000e+05],\n",
       "       [1.04474032e+42, 1.48438000e+05],\n",
       "       [1.04474032e+42, 1.48739000e+05],\n",
       "       [1.04474032e+42, 1.49040000e+05],\n",
       "       [1.04474032e+42, 1.49341000e+05],\n",
       "       [1.04474032e+42, 1.49642000e+05],\n",
       "       [1.04474032e+42, 1.49943000e+05],\n",
       "       [1.04474032e+42, 1.50244000e+05],\n",
       "       [1.04474032e+42, 1.50545000e+05],\n",
       "       [1.04474032e+42, 1.50846000e+05]])"
      ]
     },
     "execution_count": 41,
     "metadata": {},
     "output_type": "execute_result"
    }
   ],
   "source": [
    "ga_nn.fitness_curve[:]"
   ]
  },
  {
   "cell_type": "code",
   "execution_count": null,
   "id": "732c23d5",
   "metadata": {},
   "outputs": [],
   "source": []
  },
  {
   "cell_type": "code",
   "execution_count": 40,
   "id": "97667be4",
   "metadata": {},
   "outputs": [
    {
     "data": {
      "text/plain": [
       "0.0027613269959413517"
      ]
     },
     "execution_count": 40,
     "metadata": {},
     "output_type": "execute_result"
    }
   ],
   "source": [
    "mlp_clf.loss_"
   ]
  },
  {
   "cell_type": "code",
   "execution_count": null,
   "id": "d73fadfc",
   "metadata": {},
   "outputs": [],
   "source": []
  }
 ],
 "metadata": {
  "kernelspec": {
   "display_name": "Python 3 (ipykernel)",
   "language": "python",
   "name": "python3"
  },
  "language_info": {
   "codemirror_mode": {
    "name": "ipython",
    "version": 3
   },
   "file_extension": ".py",
   "mimetype": "text/x-python",
   "name": "python",
   "nbconvert_exporter": "python",
   "pygments_lexer": "ipython3",
   "version": "3.10.9"
  }
 },
 "nbformat": 4,
 "nbformat_minor": 5
}
