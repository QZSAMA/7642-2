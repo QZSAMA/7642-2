{
 "cells": [
  {
   "cell_type": "code",
   "execution_count": 2,
   "id": "a3d7df42",
   "metadata": {},
   "outputs": [
    {
     "name": "stdout",
     "output_type": "stream",
     "text": [
      "Test accuracy: 1.0\n"
     ]
    }
   ],
   "source": [
    "import numpy as np\n",
    "from sklearn.datasets import load_iris\n",
    "from sklearn.model_selection import train_test_split\n",
    "from sklearn.neural_network import MLPClassifier\n",
    "import mlrose_hiive\n",
    "\n",
    "# 加载数据集\n",
    "data = load_iris()\n",
    "X = data.data\n",
    "y = data.target\n",
    "\n",
    "# 将数据集分为训练集和测试集\n",
    "X_train, X_test, y_train, y_test = train_test_split(X, y, test_size=0.2, random_state=42)\n",
    "\n",
    "# 定义一个简单的 MLPClassifier\n",
    "model = MLPClassifier(hidden_layer_sizes=(10,), max_iter=1, warm_start=True)\n",
    "\n",
    "# 训练模型一次以获取初始权重\n",
    "model.fit(X_train, y_train)\n",
    "\n",
    "# 获取初始权重\n",
    "initial_weights = np.concatenate([coef.flatten() for coef in model.coefs_] + [intercept.flatten() for intercept in model.intercepts_])\n",
    "\n",
    "# 定义适应度函数\n",
    "def fitness_function(weights):\n",
    "    start = 0\n",
    "    for i in range(len(model.coefs_)):\n",
    "        end = start + model.coefs_[i].size\n",
    "        model.coefs_[i] = weights[start:end].reshape(model.coefs_[i].shape)\n",
    "        start = end\n",
    "    for i in range(len(model.intercepts_)):\n",
    "        end = start + model.intercepts_[i].size\n",
    "        model.intercepts_[i] = weights[start:end].reshape(model.intercepts_[i].shape)\n",
    "        start = end\n",
    "\n",
    "    model.fit(X_train, y_train)\n",
    "    predictions = model.predict(X_train)\n",
    "    accuracy = np.mean(predictions == y_train)\n",
    "\n",
    "    return -accuracy  # 使用负准确率作为优化目标，因为 mlrose_hiive 最小化适应度函数\n",
    "\n",
    "# 定义优化问题\n",
    "problem = mlrose_hiive.ContinuousOpt(length=len(initial_weights), fitness_fn=mlrose_hiive.CustomFitness(fitness_function), maximize=False, min_val=-1.0, max_val=1.0)\n",
    "\n",
    "# 选择优化算法\n",
    "algorithm = 'genetic_alg'  # 可选 'random_hill_climb', 'simulated_annealing', 'genetic_alg', 'mimic'\n",
    "\n",
    "# 运行优化算法\n",
    "if algorithm == 'random_hill_climb':\n",
    "    best_state, best_fitness,_ = mlrose_hiive.random_hill_climb(problem, max_iters=1000,curve=True)\n",
    "elif algorithm == 'simulated_annealing':\n",
    "    best_state, best_fitness,_ = mlrose_hiive.simulated_annealing(problem, max_iters=1000,curve=True)\n",
    "elif algorithm == 'genetic_alg':\n",
    "    best_state, best_fitness,_ = mlrose_hiive.genetic_alg(problem, max_iters=1000,curve=True)\n",
    "elif algorithm == 'mimic':\n",
    "    best_state, best_fitness,_ = mlrose_hiive.mimic(problem, max_iters=1000,curve=True)\n",
    "else:\n",
    "    raise ValueError(\"Unsupported algorithm selected\")\n",
    "\n",
    "# 将优化后的权重赋值给模型\n",
    "start = 0\n",
    "for i in range(len(model.coefs_)):\n",
    "    end = start + model.coefs_[i].size\n",
    "    model.coefs_[i] = best_state[start:end].reshape(model.coefs_[i].shape)\n",
    "    start = end\n",
    "for i in range(len(model.intercepts_)):\n",
    "    end = start + model.intercepts_[i].size\n",
    "    model.intercepts_[i] = best_state[start:end].reshape(model.intercepts_[i].shape)\n",
    "    start = end\n",
    "\n",
    "# 在测试集上评估模型\n",
    "predictions = model.predict(X_test)\n",
    "accuracy = np.mean(predictions == y_test)\n",
    "print(f\"Test accuracy: {accuracy}\")"
   ]
  },
  {
   "cell_type": "code",
   "execution_count": null,
   "id": "b0c5ca4b",
   "metadata": {},
   "outputs": [],
   "source": []
  }
 ],
 "metadata": {
  "kernelspec": {
   "display_name": "Python 3 (ipykernel)",
   "language": "python",
   "name": "python3"
  },
  "language_info": {
   "codemirror_mode": {
    "name": "ipython",
    "version": 3
   },
   "file_extension": ".py",
   "mimetype": "text/x-python",
   "name": "python",
   "nbconvert_exporter": "python",
   "pygments_lexer": "ipython3",
   "version": "3.10.9"
  }
 },
 "nbformat": 4,
 "nbformat_minor": 5
}
